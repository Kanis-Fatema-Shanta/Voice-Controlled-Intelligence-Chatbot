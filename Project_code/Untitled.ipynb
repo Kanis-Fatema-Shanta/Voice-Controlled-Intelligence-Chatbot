{
 "cells": [
  {
   "cell_type": "code",
   "execution_count": 5,
   "metadata": {},
   "outputs": [
    {
     "ename": "ModuleNotFoundError",
     "evalue": "No module named 'pyttsx3'",
     "output_type": "error",
     "traceback": [
      "\u001b[1;31m---------------------------------------------------------------------------\u001b[0m",
      "\u001b[1;31mModuleNotFoundError\u001b[0m                       Traceback (most recent call last)",
      "\u001b[1;32m<ipython-input-5-a80f96e23360>\u001b[0m in \u001b[0;36m<module>\u001b[1;34m\u001b[0m\n\u001b[0;32m      3\u001b[0m \u001b[1;32mfrom\u001b[0m \u001b[0mmultiprocessing\u001b[0m \u001b[1;32mimport\u001b[0m \u001b[0mProcess\u001b[0m\u001b[1;33m\u001b[0m\u001b[1;33m\u001b[0m\u001b[0m\n\u001b[0;32m      4\u001b[0m \u001b[1;32mimport\u001b[0m \u001b[0msys\u001b[0m\u001b[1;33m\u001b[0m\u001b[1;33m\u001b[0m\u001b[0m\n\u001b[1;32m----> 5\u001b[1;33m \u001b[1;32mimport\u001b[0m \u001b[0mpyttsx3\u001b[0m\u001b[1;33m\u001b[0m\u001b[1;33m\u001b[0m\u001b[0m\n\u001b[0m\u001b[0;32m      6\u001b[0m \u001b[1;33m\u001b[0m\u001b[0m\n\u001b[0;32m      7\u001b[0m \u001b[1;33m\u001b[0m\u001b[0m\n",
      "\u001b[1;31mModuleNotFoundError\u001b[0m: No module named 'pyttsx3'"
     ]
    }
   ],
   "source": [
    "from tkinter import *\n",
    "import time\n",
    "from multiprocessing import Process\n",
    "import sys\n",
    "import pyttsx3\n",
    "\n",
    "\n",
    "def speak(text):\n",
    "    engine.say(text)\n",
    "    engine.runAndWait()\n",
    "    \n",
    "\n",
    "def transition2():\n",
    "    global frames\n",
    "    global canvas\n",
    "    for k in range(0,1000):\n",
    "        for frame in frames:\n",
    "            #canvas.delete(ALL)\n",
    "            canvas.create_image(0, 0, image=frame, anchor=NW)\n",
    "            canvas.update()\n",
    "            time.sleep(0.3)\n",
    "\n",
    "engine = pyttsx3.init('sapi5') # Windows\n",
    "voices = engine.getProperty('voices')\n",
    "engine.setProperty('voice', voices[1].id)\n",
    "root = Tk()\n",
    "root.title(\"Transition\")\n",
    "frames = [PhotoImage(file='chatgif.gif',format = 'gif -index %i' %(i)) for i in range(20)]\n",
    "canvas = Canvas(root, width = 803, height = 596)\n",
    "canvas.pack()\n",
    "img1= PhotoImage(file='chatbot-image.png')\n",
    "canvas.create_image(0, 0, image=img1, anchor=NW)\n",
    "\n",
    "#btn=Button(root, text=\"Transition\", width=50, command=transition2)\n",
    "#btn.pack(anchor=CENTER, expand=True)\n",
    "p1 = Process(target=speak,args=(\"Hello Everyone! How are you??\",))\n",
    "p1.start()\n",
    "p2 = Process(target=transition2)\n",
    "p2.start()\n",
    "\n",
    "\n",
    "root.mainloop()"
   ]
  },
  {
   "cell_type": "code",
   "execution_count": null,
   "metadata": {},
   "outputs": [],
   "source": []
  }
 ],
 "metadata": {
  "kernelspec": {
   "display_name": "Python 3",
   "language": "python",
   "name": "python3"
  },
  "language_info": {
   "codemirror_mode": {
    "name": "ipython",
    "version": 3
   },
   "file_extension": ".py",
   "mimetype": "text/x-python",
   "name": "python",
   "nbconvert_exporter": "python",
   "pygments_lexer": "ipython3",
   "version": "3.7.6"
  }
 },
 "nbformat": 4,
 "nbformat_minor": 4
}
